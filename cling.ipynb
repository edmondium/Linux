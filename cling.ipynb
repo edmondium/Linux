{
 "cells": [
  {
   "cell_type": "code",
   "execution_count": 1,
   "id": "ed631e11-f4c4-4e87-b529-30429e7d88f3",
   "metadata": {},
   "outputs": [
    {
     "name": "stdout",
     "output_type": "stream",
     "text": [
      "some output\n"
     ]
    }
   ],
   "source": [
    "#include <iostream>\n",
    "\n",
    "std::cout << \"some output\" << std::endl;"
   ]
  },
  {
   "cell_type": "code",
   "execution_count": 2,
   "id": "34de1f61-4aed-4856-bf48-1dd12c77d901",
   "metadata": {},
   "outputs": [
    {
     "name": "stderr",
     "output_type": "stream",
     "text": [
      "some error\n"
     ]
    }
   ],
   "source": [
    "std::cerr << \"some error\" << std::endl;"
   ]
  },
  {
   "cell_type": "code",
   "execution_count": 3,
   "id": "0bf187a3-502f-4b2e-a479-8241aef8506d",
   "metadata": {},
   "outputs": [],
   "source": [
    "#include <stdexcept>"
   ]
  },
  {
   "cell_type": "code",
   "execution_count": 4,
   "id": "a1962409-a8ad-4b0e-9130-149c58585290",
   "metadata": {},
   "outputs": [
    {
     "ename": "Standard Exception",
     "evalue": "Unknown exception",
     "output_type": "error",
     "traceback": [
      "Standard Exception: Unknown exception"
     ]
    }
   ],
   "source": [
    "throw std::runtime_error(\"Unknown exception\");"
   ]
  },
  {
   "cell_type": "code",
   "execution_count": 5,
   "id": "2ac8d0c3-1eb1-4365-830f-207fa9bd6257",
   "metadata": {},
   "outputs": [],
   "source": [
    "int j = 5;"
   ]
  },
  {
   "cell_type": "code",
   "execution_count": 6,
   "id": "9a5ea29d-5ef1-4ed2-9e10-48f64b55b8cc",
   "metadata": {},
   "outputs": [
    {
     "data": {
      "text/plain": [
       "5"
      ]
     },
     "execution_count": 6,
     "metadata": {},
     "output_type": "execute_result"
    }
   ],
   "source": [
    "j"
   ]
  },
  {
   "cell_type": "code",
   "execution_count": 7,
   "id": "4f66d923-85dd-4b53-9657-736e5643f453",
   "metadata": {},
   "outputs": [],
   "source": [
    "double sqr(double a)\n",
    "{\n",
    "    return a * a;\n",
    "}"
   ]
  },
  {
   "cell_type": "code",
   "execution_count": 8,
   "id": "9168c979-893e-4c82-9a88-3f60b5bb34f8",
   "metadata": {},
   "outputs": [
    {
     "data": {
      "text/plain": [
       "6.2500000"
      ]
     },
     "execution_count": 8,
     "metadata": {},
     "output_type": "execute_result"
    }
   ],
   "source": [
    "double a = 2.5;\n",
    "double asqr = sqr(a);\n",
    "asqr"
   ]
  },
  {
   "cell_type": "code",
   "execution_count": 9,
   "id": "f94e4c1c-aa32-434e-81c7-a75ca72719ac",
   "metadata": {},
   "outputs": [],
   "source": [
    "class Foo\n",
    "{\n",
    "public:\n",
    "\n",
    "    virtual ~Foo() {}\n",
    "    \n",
    "    virtual void print(double value) const\n",
    "    {\n",
    "        std::cout << \"Foo value = \" << value << std::endl;\n",
    "    }\n",
    "};"
   ]
  },
  {
   "cell_type": "code",
   "execution_count": 10,
   "id": "a7427a27-d06b-4127-88e1-c1424cb3cb7c",
   "metadata": {},
   "outputs": [
    {
     "name": "stdout",
     "output_type": "stream",
     "text": [
      "Foo value = 1.2\n"
     ]
    }
   ],
   "source": [
    "Foo bar;\n",
    "bar.print(1.2);"
   ]
  },
  {
   "cell_type": "code",
   "execution_count": 11,
   "id": "6ec3df9e-90df-4fa8-ae27-5b351a89afff",
   "metadata": {},
   "outputs": [],
   "source": [
    "class Bar : public Foo\n",
    "{\n",
    "public:\n",
    "\n",
    "    virtual ~Bar() {}\n",
    "    \n",
    "    virtual void print(double value) const\n",
    "    {\n",
    "        std::cout << \"Bar value = \" << 2 * value << std::endl;\n",
    "    }\n",
    "};"
   ]
  },
  {
   "cell_type": "code",
   "execution_count": 12,
   "id": "754e4ef8-c8e3-44b9-a53d-7eeb5290597a",
   "metadata": {},
   "outputs": [
    {
     "name": "stdout",
     "output_type": "stream",
     "text": [
      "Bar value = 2.4\n"
     ]
    }
   ],
   "source": [
    "Foo* bar2 = new Bar;\n",
    "bar2->print(1.2);\n",
    "delete bar2;"
   ]
  },
  {
   "cell_type": "code",
   "execution_count": 13,
   "id": "6dcbe4be-5ad1-4b14-a937-9403e7ef7979",
   "metadata": {},
   "outputs": [],
   "source": [
    "#include <typeinfo>\n",
    "\n",
    "template <class T>\n",
    "class FooT\n",
    "{\n",
    "public:\n",
    "    \n",
    "    explicit FooT(const T& t) : m_t(t) {}\n",
    "    \n",
    "    void print() const\n",
    "    {\n",
    "        std::cout << typeid(T).name() << \" m_t = \" << m_t << std::endl;\n",
    "    }\n",
    "    \n",
    "private:\n",
    "    \n",
    "    T m_t;\n",
    "};"
   ]
  },
  {
   "cell_type": "code",
   "execution_count": 14,
   "id": "ca49bebf-ad83-4629-8afd-f001cc5bc45a",
   "metadata": {},
   "outputs": [
    {
     "name": "stdout",
     "output_type": "stream",
     "text": [
      "d m_t = 1.2\n"
     ]
    }
   ],
   "source": [
    "FooT<double> foot(1.2);\n",
    "foot.print();"
   ]
  },
  {
   "cell_type": "code",
   "execution_count": 15,
   "id": "9d7b1d14-d9f4-4009-a2d1-c60dd5fa67bf",
   "metadata": {},
   "outputs": [],
   "source": [
    "class Foo11\n",
    "{\n",
    "public:\n",
    "    \n",
    "    Foo11() { std::cout << \"Foo11 default constructor\" << std::endl; }\n",
    "    Foo11(const Foo11&) { std::cout << \"Foo11 copy constructor\" << std::endl; }\n",
    "    Foo11(Foo11&&) { std::cout << \"Foo11 move constructor\" << std::endl; }\n",
    "};"
   ]
  },
  {
   "cell_type": "code",
   "execution_count": 16,
   "id": "17d71b11-2e4f-4734-9154-c4453539f602",
   "metadata": {},
   "outputs": [
    {
     "name": "stdout",
     "output_type": "stream",
     "text": [
      "Foo11 default constructor\n",
      "Foo11 copy constructor\n",
      "Foo11 move constructor\n"
     ]
    }
   ],
   "source": [
    "Foo11 f1;\n",
    "Foo11 f2(f1);\n",
    "Foo11 f3(std::move(f1));"
   ]
  },
  {
   "cell_type": "code",
   "execution_count": 17,
   "id": "0ed7b180-d549-49de-bdcb-b54261088ef4",
   "metadata": {},
   "outputs": [
    {
     "data": {
      "text/plain": [
       "{ 1, 2, 3 }"
      ]
     },
     "execution_count": 17,
     "metadata": {},
     "output_type": "execute_result"
    }
   ],
   "source": [
    "#include <vector>\n",
    "\n",
    "std::vector<int> v = { 1, 2, 3};\n",
    "auto iter = ++v.begin();\n",
    "v"
   ]
  },
  {
   "cell_type": "code",
   "execution_count": 18,
   "id": "d0ce2314-7d80-42bb-942a-f4b3efceac20",
   "metadata": {},
   "outputs": [
    {
     "data": {
      "text/plain": [
       "2"
      ]
     },
     "execution_count": 18,
     "metadata": {},
     "output_type": "execute_result"
    }
   ],
   "source": [
    "*iter"
   ]
  },
  {
   "cell_type": "code",
   "execution_count": 19,
   "id": "982ed0b4-0e37-474c-acd3-86e86bed7d74",
   "metadata": {},
   "outputs": [
    {
     "data": {
      "text/html": [
       "<style>\n",
       "            #pager-container {\n",
       "                padding: 0;\n",
       "                margin: 0;\n",
       "                width: 100%;\n",
       "                height: 100%;\n",
       "            }\n",
       "            .xcpp-iframe-pager {\n",
       "                padding: 0;\n",
       "                margin: 0;\n",
       "                width: 100%;\n",
       "                height: 100%;\n",
       "                border: none;\n",
       "            }\n",
       "            </style>\n",
       "            <iframe class=\"xcpp-iframe-pager\" src=\"https://en.cppreference.com/w/cpp/container/vector?action=purge\"></iframe>"
      ],
      "text/plain": [
       "https://en.cppreference.com/w/cpp/container/vector"
      ]
     },
     "metadata": {},
     "output_type": "display_data"
    }
   ],
   "source": [
    "?std::vector"
   ]
  },
  {
   "cell_type": "code",
   "execution_count": 20,
   "id": "44f8ad82-0b42-4f03-bde6-bedb2a4dd5f4",
   "metadata": {},
   "outputs": [],
   "source": [
    "#include <string>\n",
    "#include <fstream>\n",
    "\n",
    "#include \"nlohmann/json.hpp\"\n",
    "\n",
    "#include \"xtl/xbase64.hpp\"\n",
    "\n",
    "namespace nl = nlohmann;\n",
    "\n",
    "namespace im\n",
    "{\n",
    "    struct image\n",
    "    {   \n",
    "        inline image(const std::string& filename)\n",
    "        {\n",
    "            std::ifstream fin(filename, std::ios::binary);   \n",
    "            m_buffer << fin.rdbuf();\n",
    "        }\n",
    "        \n",
    "        std::stringstream m_buffer;\n",
    "    };\n",
    "    \n",
    "    nl::json mime_bundle_repr(const image& i)\n",
    "    {\n",
    "        auto bundle = nl::json::object();\n",
    "        bundle[\"image/png\"] = xtl::base64encode(i.m_buffer.str());\n",
    "        return bundle;\n",
    "    }\n",
    "}"
   ]
  },
  {
   "cell_type": "code",
   "execution_count": 22,
   "id": "d058744e-0dc8-4fff-aa88-78362f32a951",
   "metadata": {},
   "outputs": [
    {
     "data": {
      "image/png": ""
     },
     "execution_count": 22,
     "metadata": {},
     "output_type": "execute_result"
    }
   ],
   "source": [
    "im::image marie(\"images/marie.png\");\n",
    "marie"
   ]
  },
  {
   "cell_type": "code",
   "execution_count": 23,
   "id": "39b29c0a-f9d3-48ca-ad53-89b8e7d7469e",
   "metadata": {},
   "outputs": [],
   "source": [
    "#include <string>\n",
    "#include <fstream>\n",
    "\n",
    "#include \"nlohmann/json.hpp\"\n",
    "\n",
    "#include \"xtl/xbase64.hpp\"\n",
    "\n",
    "namespace nl = nlohmann;\n",
    "\n",
    "namespace au\n",
    "{\n",
    "    struct audio\n",
    "    {   \n",
    "        inline audio(const std::string& filename)\n",
    "        {\n",
    "            std::ifstream fin(filename, std::ios::binary);   \n",
    "            m_buffer << fin.rdbuf();\n",
    "        }\n",
    "        \n",
    "        std::stringstream m_buffer;\n",
    "    };\n",
    "    \n",
    "    nl::json mime_bundle_repr(const audio& a)\n",
    "    {\n",
    "        auto bundle = nl::json::object();\n",
    "        bundle[\"text/html\"] =\n",
    "           std::string(\"<audio controls=\\\"controls\\\"><source src=\\\"data:audio/wav;base64,\")\n",
    "           + xtl::base64encode(a.m_buffer.str()) +\n",
    "            \"\\\" type=\\\"audio/wav\\\" /></audio>\";\n",
    "        return bundle;\n",
    "    }\n",
    "}"
   ]
  },
  {
   "cell_type": "code",
   "execution_count": 24,
   "id": "74106663-73c6-42f1-a768-d333929db016",
   "metadata": {},
   "outputs": [
    {
     "data": {
      "text/html": [
       "<audio controls=\"controls\"><source src=\"data:audio/wav;base64,\" type=\"audio/wav\" /></audio>"
      ]
     },
     "execution_count": 24,
     "metadata": {},
     "output_type": "execute_result"
    }
   ],
   "source": [
    "au::audio drums(\"audio/audio.wav\");\n",
    "drums"
   ]
  },
  {
   "cell_type": "code",
   "execution_count": 25,
   "id": "bd15a2d9-546e-4898-ad31-effed544ae65",
   "metadata": {},
   "outputs": [],
   "source": [
    "#include \"xcpp/xdisplay.hpp\""
   ]
  },
  {
   "cell_type": "code",
   "execution_count": 26,
   "id": "2b5a059f-7f81-41d2-889d-cc71a28cf543",
   "metadata": {},
   "outputs": [
    {
     "data": {
      "text/html": [
       "<audio controls=\"controls\"><source src=\"data:audio/wav;base64,\" type=\"audio/wav\" /></audio>"
      ]
     },
     "metadata": {},
     "output_type": "display_data"
    }
   ],
   "source": [
    "xcpp::display(drums);"
   ]
  },
  {
   "cell_type": "code",
   "execution_count": 27,
   "id": "d51846a3-b9d9-4607-af85-d5a45576cb4f",
   "metadata": {},
   "outputs": [],
   "source": [
    "#include <string>\n",
    "#include \"xcpp/xdisplay.hpp\"\n",
    "\n",
    "#include \"nlohmann/json.hpp\"\n",
    "\n",
    "namespace nl = nlohmann;\n",
    "\n",
    "namespace ht\n",
    "{\n",
    "    struct html\n",
    "    {   \n",
    "        inline html(const std::string& content)\n",
    "        {\n",
    "            m_content = content;\n",
    "        }\n",
    "        std::string m_content;\n",
    "    };\n",
    "\n",
    "    nl::json mime_bundle_repr(const html& a)\n",
    "    {\n",
    "        auto bundle = nl::json::object();\n",
    "        bundle[\"text/html\"] = a.m_content;\n",
    "        return bundle;\n",
    "    }\n",
    "}\n",
    "\n",
    "// A blue rectangle\n",
    "ht::html rect(R\"(\n",
    "<div style='\n",
    "    width: 90px;\n",
    "    height: 50px;\n",
    "    line-height: 50px;\n",
    "    background-color: blue;\n",
    "    color: white;\n",
    "    text-align: center;'>\n",
    "Original\n",
    "</div>)\");"
   ]
  },
  {
   "cell_type": "code",
   "execution_count": 28,
   "id": "40c9c19f-3323-44da-80c8-c5f173d9001f",
   "metadata": {},
   "outputs": [
    {
     "data": {
      "text/html": [
       "\n",
       "<div style='\n",
       "    width: 90px;\n",
       "    height: 50px;\n",
       "    line-height: 50px;\n",
       "    background-color: red;\n",
       "    color: white;\n",
       "    text-align: center;'>\n",
       "Updated\n",
       "</div>"
      ]
     },
     "metadata": {},
     "output_type": "display_data"
    }
   ],
   "source": [
    "xcpp::display(rect, \"some_display_id\");"
   ]
  },
  {
   "cell_type": "code",
   "execution_count": 29,
   "id": "af5e01fc-1ef8-42c1-9422-8bec1d114b0e",
   "metadata": {},
   "outputs": [],
   "source": [
    "// Update the rectangle to be red\n",
    "rect.m_content = R\"(\n",
    "<div style='\n",
    "    width: 90px;\n",
    "    height: 50px;\n",
    "    line-height: 50px;\n",
    "    background-color: red;\n",
    "    color: white;\n",
    "    text-align: center;'>\n",
    "Updated\n",
    "</div>)\";\n",
    "\n",
    "xcpp::display(rect, \"some_display_id\", true);"
   ]
  },
  {
   "cell_type": "code",
   "execution_count": 30,
   "id": "e8f17ab0-3fff-45e0-9ef9-35be1e9fb3e8",
   "metadata": {},
   "outputs": [],
   "source": [
    "#include <chrono>\n",
    "#include <iostream>\n",
    "#include <thread>\n",
    "\n",
    "#include \"xcpp/xdisplay.hpp\""
   ]
  },
  {
   "cell_type": "code",
   "execution_count": 31,
   "id": "d5dce5f1-a8e6-473d-a83b-58571a82403a",
   "metadata": {},
   "outputs": [
    {
     "name": "stdout",
     "output_type": "stream",
     "text": [
      "goodbye\n"
     ]
    }
   ],
   "source": [
    "std::cout << \"hello\" << std::endl;\n",
    "std::this_thread::sleep_for(std::chrono::seconds(1));\n",
    "xcpp::clear_output();  // will flicker when replacing \"hello\" with \"goodbye\"\n",
    "std::this_thread::sleep_for(std::chrono::seconds(1));\n",
    "std::cout << \"goodbye\" << std::endl;"
   ]
  },
  {
   "cell_type": "code",
   "execution_count": 32,
   "id": "900c2aa8-b9e5-4159-972b-fe482936bef0",
   "metadata": {},
   "outputs": [
    {
     "name": "stdout",
     "output_type": "stream",
     "text": [
      "goodbye\n"
     ]
    }
   ],
   "source": [
    "std::cout << \"hello\" << std::endl;\n",
    "std::this_thread::sleep_for(std::chrono::seconds(1));\n",
    "xcpp::clear_output(true);  // prevents flickering\n",
    "std::this_thread::sleep_for(std::chrono::seconds(1));\n",
    "std::cout << \"goodbye\" << std::endl;"
   ]
  },
  {
   "cell_type": "code",
   "execution_count": 33,
   "id": "62768744-0515-4ba0-bb15-4a1f699c8178",
   "metadata": {},
   "outputs": [],
   "source": [
    "#include <algorithm>\n",
    "#include <vector>"
   ]
  },
  {
   "cell_type": "code",
   "execution_count": 34,
   "id": "7f9f28b6-3ea1-4c83-ac6b-24f10b8682c1",
   "metadata": {},
   "outputs": [],
   "source": [
    "std::vector<double> to_shuffle = {1, 2, 3, 4};"
   ]
  },
  {
   "cell_type": "code",
   "execution_count": 35,
   "id": "b338c250-eb6f-4cf6-a8ac-5aacd4de4dd9",
   "metadata": {},
   "outputs": [
    {
     "name": "stdout",
     "output_type": "stream",
     "text": [
      "178 ns +- 3.96 ns per loop (mean +- std. dev. of 7 runs 10000000 loops each)\n"
     ]
    }
   ],
   "source": [
    "%timeit std::random_shuffle(to_shuffle.begin(), to_shuffle.end());"
   ]
  },
  {
   "cell_type": "code",
   "execution_count": 1,
   "id": "22fae068-3888-48ec-97b7-774750e0bfea",
   "metadata": {},
   "outputs": [
    {
     "data": {
      "text/html": [
       "<table style='border-style:solid;border-width:1px;'><tbody><tr><td style='font-family:monospace;' title='0'><pre>  7.</pre></td></tr><tr><td style='font-family:monospace;' title='1'><pre> 11.</pre></td></tr><tr><td style='font-family:monospace;' title='2'><pre> 14.</pre></td></tr></tbody></table>"
      ]
     },
     "execution_count": 1,
     "metadata": {},
     "output_type": "execute_result"
    }
   ],
   "source": [
    "#include <iostream>\n",
    "\n",
    "#include \"xtensor/xarray.hpp\"\n",
    "#include \"xtensor/xio.hpp\"\n",
    "#include \"xtensor/xview.hpp\"\n",
    "\n",
    "xt::xarray<double> arr1\n",
    "  {{1.0, 2.0, 3.0},\n",
    "   {2.0, 5.0, 7.0},\n",
    "   {2.0, 5.0, 7.0}};\n",
    "\n",
    "xt::xarray<double> arr2\n",
    "  {5.0, 6.0, 7.0};\n",
    "\n",
    "xt::view(arr1, 1) + arr2"
   ]
  },
  {
   "cell_type": "code",
   "execution_count": 2,
   "id": "0656c971-0027-4da9-8413-b7ed85cc25f3",
   "metadata": {},
   "outputs": [],
   "source": [
    "#include <iostream>\n",
    "#include \"xtensor/xarray.hpp\"\n",
    "#include \"xtensor/xio.hpp\""
   ]
  },
  {
   "cell_type": "code",
   "execution_count": 3,
   "id": "eb5e7a82-abbe-41a6-9735-38d196d306e3",
   "metadata": {},
   "outputs": [
    {
     "name": "stdout",
     "output_type": "stream",
     "text": [
      "{{1, 2, 3},\n",
      " {4, 5, 6},\n",
      " {7, 8, 9}}"
     ]
    }
   ],
   "source": [
    "xt::xarray<int> arr\n",
    "  {1, 2, 3, 4, 5, 6, 7, 8, 9};\n",
    "\n",
    "arr.reshape({3, 3});\n",
    "\n",
    "std::cout << arr;"
   ]
  },
  {
   "cell_type": "code",
   "execution_count": 1,
   "id": "9df5b542-6ccf-44d9-95f4-891202ff4890",
   "metadata": {},
   "outputs": [],
   "source": [
    "#include \"xtensor-blas/xlinalg.hpp\""
   ]
  },
  {
   "cell_type": "code",
   "execution_count": 2,
   "id": "ec8b28bb-cb18-44da-b758-fb4fa4098869",
   "metadata": {},
   "outputs": [
    {
     "name": "stdout",
     "output_type": "stream",
     "text": [
      "Matrix rank: \n",
      "2\n",
      "Matrix inverse: \n",
      "{{ 0.869565, -0.434783},\n",
      " {-0.608696,  1.304348}}\n",
      "Eigen values: \n",
      "{ 1.892262+0.i,  0.607738+0.i}\n"
     ]
    }
   ],
   "source": [
    "xt::xtensor<double, 2> m = {{1.5, 0.5}, {0.7, 1.0}};\n",
    "std::cout << \"Matrix rank: \" << std::endl << xt::linalg::matrix_rank(m) << std::endl;\n",
    "std::cout << \"Matrix inverse: \" << std::endl << xt::linalg::inv(m) << std::endl;\n",
    "std::cout << \"Eigen values: \" << std::endl << xt::linalg::eigvals(m) << std::endl;"
   ]
  },
  {
   "cell_type": "code",
   "execution_count": 3,
   "id": "3818db55-db19-4054-a36d-907305127dee",
   "metadata": {},
   "outputs": [
    {
     "name": "stdout",
     "output_type": "stream",
     "text": [
      "{{{  15.,   18.,   21.},\n",
      "  {  42.,   45.,   48.}},\n",
      " {{  42.,   54.,   66.},\n",
      "  { 150.,  162.,  174.}},\n",
      " {{  69.,   90.,  111.},\n",
      "  { 258.,  279.,  300.}}}\n"
     ]
    }
   ],
   "source": [
    "xt::xarray<double> arg1 = xt::arange<double>(9);\n",
    "xt::xarray<double> arg2 = xt::arange<double>(18);\n",
    "\n",
    "arg1.reshape({3, 3});\n",
    "arg2.reshape({2, 3, 3});\n",
    "\n",
    "std::cout << xt::linalg::dot(arg1, arg2) << std::endl;"
   ]
  },
  {
   "cell_type": "code",
   "execution_count": null,
   "id": "0e70d73b-7aa5-4665-88cc-19275dd0ae3e",
   "metadata": {},
   "outputs": [],
   "source": []
  }
 ],
 "metadata": {
  "kernelspec": {
   "display_name": "C++17",
   "language": "C++17",
   "name": "xcpp17"
  },
  "language_info": {
   "codemirror_mode": "text/x-c++src",
   "file_extension": ".cpp",
   "mimetype": "text/x-c++src",
   "name": "c++",
   "version": "17"
  }
 },
 "nbformat": 4,
 "nbformat_minor": 5
}
