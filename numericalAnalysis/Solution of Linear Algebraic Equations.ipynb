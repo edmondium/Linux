{
 "cells": [
  {
   "cell_type": "markdown",
   "metadata": {},
   "source": [
    "# Gauss-Jordan Elimination"
   ]
  },
  {
   "cell_type": "code",
   "execution_count": 1,
   "metadata": {
    "vscode": {
     "languageId": "cpp"
    }
   },
   "outputs": [],
   "source": [
    "#include \"gaussj.h\""
   ]
  },
  {
   "cell_type": "code",
   "execution_count": 2,
   "metadata": {
    "vscode": {
     "languageId": "cpp"
    }
   },
   "outputs": [],
   "source": [
    "MatDoub_IO a(3, 3);\n",
    "MatDoub_IO b(3, 1);"
   ]
  },
  {
   "cell_type": "code",
   "execution_count": 3,
   "metadata": {
    "vscode": {
     "languageId": "cpp"
    }
   },
   "outputs": [],
   "source": [
    "a[0][0] = 2; a[0][1] = 1; a[0][2] = -1;\n",
    "a[1][0] = -3; a[1][1] = -1; a[1][2] = 2;\n",
    "a[2][0] = -2; a[2][1] = 1; a[2][2] = 2;"
   ]
  },
  {
   "cell_type": "code",
   "execution_count": 4,
   "metadata": {
    "vscode": {
     "languageId": "cpp"
    }
   },
   "outputs": [],
   "source": [
    "b[0][0] = 8;\n",
    "b[1][0] = -11;\n",
    "b[2][0] = -3;"
   ]
  },
  {
   "cell_type": "code",
   "execution_count": 5,
   "metadata": {
    "vscode": {
     "languageId": "cpp"
    }
   },
   "outputs": [],
   "source": [
    "gaussj(a, b);"
   ]
  },
  {
   "cell_type": "code",
   "execution_count": 6,
   "metadata": {
    "vscode": {
     "languageId": "cpp"
    }
   },
   "outputs": [
    {
     "name": "stdout",
     "output_type": "stream",
     "text": [
      "Solution:\n",
      "x[0] = 2\n",
      "x[1] = 3\n",
      "x[2] = -1\n"
     ]
    }
   ],
   "source": [
    "#include <iostream>\n",
    "std::cout << \"Solution:\" << std::endl;\n",
    "for (Int i = 0; i < b.nrows(); ++i) {\n",
    "    std::cout << \"x[\" << i << \"] = \" << b[i][0] << std::endl;\n",
    "}"
   ]
  },
  {
   "cell_type": "markdown",
   "metadata": {},
   "source": [
    "# LU Decomposition"
   ]
  },
  {
   "cell_type": "code",
   "execution_count": 7,
   "metadata": {
    "vscode": {
     "languageId": "cpp"
    }
   },
   "outputs": [],
   "source": [
    "#include \"ludcmp.h\""
   ]
  },
  {
   "cell_type": "code",
   "execution_count": 8,
   "metadata": {
    "vscode": {
     "languageId": "cpp"
    }
   },
   "outputs": [],
   "source": [
    "const Int n = 3;\n",
    "MatDoub a(n, n);\n",
    "VecDoub b(n), x(n);"
   ]
  },
  {
   "cell_type": "code",
   "execution_count": 9,
   "metadata": {
    "vscode": {
     "languageId": "cpp"
    }
   },
   "outputs": [],
   "source": [
    "a[0][0] = 2; a[0][1] = 1; a[0][2] = -1;\n",
    "a[1][0] = -3; a[1][1] = -1; a[1][2] = 2;\n",
    "a[2][0] = -2; a[2][1] = 1; a[2][2] = 2;"
   ]
  },
  {
   "cell_type": "code",
   "execution_count": 10,
   "metadata": {
    "vscode": {
     "languageId": "cpp"
    }
   },
   "outputs": [],
   "source": [
    "b[0] = 8;\n",
    "b[1] = -11;\n",
    "b[2] = -3;"
   ]
  },
  {
   "cell_type": "code",
   "execution_count": 11,
   "metadata": {
    "vscode": {
     "languageId": "cpp"
    }
   },
   "outputs": [],
   "source": [
    "LUdcmp alu(a);"
   ]
  },
  {
   "cell_type": "code",
   "execution_count": 12,
   "metadata": {
    "vscode": {
     "languageId": "cpp"
    }
   },
   "outputs": [],
   "source": [
    "alu.solve(b, x);"
   ]
  },
  {
   "cell_type": "code",
   "execution_count": 13,
   "metadata": {
    "vscode": {
     "languageId": "cpp"
    }
   },
   "outputs": [
    {
     "name": "stdout",
     "output_type": "stream",
     "text": [
      "Solution vector x:\n",
      "x[0] = 2\n",
      "x[1] = 3\n",
      "x[2] = -1\n"
     ]
    }
   ],
   "source": [
    "#include <iostream>\n",
    "std::cout << \"Solution vector x:\" << std::endl;\n",
    "for (size_t i = 0; i < x.size(); ++i){\n",
    "    std::cout << \"x[\" << i << \"] = \" << x[i] << std::endl;\n",
    "}\n",
    "return 0;"
   ]
  },
  {
   "cell_type": "code",
   "execution_count": 14,
   "metadata": {
    "vscode": {
     "languageId": "cpp"
    }
   },
   "outputs": [],
   "source": [
    "// Copy the solution to another vector to use in mprove\n",
    "VecDoub x_orig(n);\n",
    "for(Int i = 0; i < n; i++){\n",
    "    x_orig[i] = x[i];\n",
    "}"
   ]
  },
  {
   "cell_type": "code",
   "execution_count": 15,
   "metadata": {
    "vscode": {
     "languageId": "cpp"
    }
   },
   "outputs": [],
   "source": [
    "// Improve the solution\n",
    "alu.mprove(b, x);"
   ]
  },
  {
   "cell_type": "code",
   "execution_count": 16,
   "metadata": {
    "vscode": {
     "languageId": "cpp"
    }
   },
   "outputs": [
    {
     "name": "stdout",
     "output_type": "stream",
     "text": [
      "Improved solution vector x:\n",
      "x[0] = 2\n",
      "x[1] = 3\n",
      "x[2] = -1\n"
     ]
    }
   ],
   "source": [
    "// Output the improved solution\n",
    "cout << \"Improved solution vector x:\" << endl;\n",
    "for(Int i = 0; i < n; i++){\n",
    "    cout << \"x[\" << i << \"] = \" << x[i] << endl;\n",
    "}\n",
    "return 0;"
   ]
  },
  {
   "cell_type": "code",
   "execution_count": 17,
   "metadata": {
    "vscode": {
     "languageId": "cpp"
    }
   },
   "outputs": [],
   "source": [
    "// Compute the inverse of matrix 'a'\n",
    "MatDoub a_inv(n, n);\n",
    "alu.inverse(a_inv);"
   ]
  },
  {
   "cell_type": "code",
   "execution_count": 18,
   "metadata": {
    "vscode": {
     "languageId": "cpp"
    }
   },
   "outputs": [
    {
     "name": "stdout",
     "output_type": "stream",
     "text": [
      "Inverse matrix a_inv:\n",
      "a_inv[0][0] = 4\ta_inv[0][1] = 3\ta_inv[0][2] = -1\t\n",
      "a_inv[1][0] = -2\ta_inv[1][1] = -2\ta_inv[1][2] = 1\t\n",
      "a_inv[2][0] = 5\ta_inv[2][1] = 4\ta_inv[2][2] = -1\t\n"
     ]
    }
   ],
   "source": [
    "// Output the inverse matrix\n",
    "#include <iostream>\n",
    "cout << \"Inverse matrix a_inv:\" << endl;\n",
    "for(Int i = 0; i < n; i++){\n",
    "    for(Int j = 0; j < n; j++){\n",
    "        cout << \"a_inv[\" << i << \"][\" << j << \"] = \" << a_inv[i][j] << \"\\t\";\n",
    "    }\n",
    "    cout << endl;\n",
    "}\n",
    "return 0;"
   ]
  },
  {
   "cell_type": "code",
   "execution_count": 19,
   "metadata": {
    "vscode": {
     "languageId": "cpp"
    }
   },
   "outputs": [],
   "source": [
    "// Compute the determinant of matrix 'a'\n",
    "Doub det = alu.det();"
   ]
  },
  {
   "cell_type": "code",
   "execution_count": 20,
   "metadata": {
    "vscode": {
     "languageId": "cpp"
    }
   },
   "outputs": [
    {
     "name": "stdout",
     "output_type": "stream",
     "text": [
      "Determinant of matrix a: -1\n"
     ]
    }
   ],
   "source": [
    "// Output the determinant\n",
    "cout << \"Determinant of matrix a: \" << det << endl;"
   ]
  },
  {
   "cell_type": "markdown",
   "metadata": {},
   "source": [
    "# Tridiagonal matrix"
   ]
  },
  {
   "cell_type": "code",
   "execution_count": 21,
   "metadata": {
    "vscode": {
     "languageId": "cpp"
    }
   },
   "outputs": [],
   "source": [
    "#include \"tridag.h\""
   ]
  },
  {
   "cell_type": "code",
   "execution_count": 22,
   "metadata": {
    "vscode": {
     "languageId": "cpp"
    }
   },
   "outputs": [],
   "source": [
    "// Initialize the vectors with the appropriate size\n",
    "VecDoub a(3), b(3), c(3), r(3);"
   ]
  },
  {
   "cell_type": "code",
   "execution_count": 23,
   "metadata": {
    "vscode": {
     "languageId": "cpp"
    }
   },
   "outputs": [],
   "source": [
    "// Set the elements of each vector\n",
    "a[0] = 0.0; a[1] = -1.0; a[2] = -1.0;\n",
    "b[0] = 2.0; b[1] = 2.0; b[2] = 2.0;\n",
    "c[0] = -1.0; c[1] = -1.0; c[2] = 0.0;\n",
    "r[0] = 1.0; r[1] = 2.0; r[2] = 3.0;"
   ]
  },
  {
   "cell_type": "code",
   "execution_count": 24,
   "metadata": {
    "vscode": {
     "languageId": "cpp"
    }
   },
   "outputs": [],
   "source": [
    "VecDoub_O u(3); // Solution vector"
   ]
  },
  {
   "cell_type": "code",
   "execution_count": 25,
   "metadata": {
    "vscode": {
     "languageId": "cpp"
    }
   },
   "outputs": [],
   "source": [
    "// Call the tridag function\n",
    "tridag(a, b, c, r, u);"
   ]
  },
  {
   "cell_type": "code",
   "execution_count": 26,
   "metadata": {
    "vscode": {
     "languageId": "cpp"
    }
   },
   "outputs": [
    {
     "name": "stdout",
     "output_type": "stream",
     "text": [
      "Solution to tridiagonal system:\n",
      "u[0] = 2.5\n",
      "u[1] = 4\n",
      "u[2] = 3.5\n"
     ]
    }
   ],
   "source": [
    "#include <iostream>\n",
    "// Output the solution\n",
    "cout << \"Solution to tridiagonal system:\" << endl;\n",
    "for (Int i = 0; i < u.size(); i++) {\n",
    "    cout << \"u[\" << i << \"] = \" << u[i] << endl;\n",
    "}"
   ]
  },
  {
   "cell_type": "code",
   "execution_count": 27,
   "metadata": {
    "vscode": {
     "languageId": "cpp"
    }
   },
   "outputs": [],
   "source": [
    "// Example usage of cyclic\n",
    "VecDoub a_cyclic(3), b_cyclic(3), c_cyclic(3), r_cyclic(3);"
   ]
  },
  {
   "cell_type": "code",
   "execution_count": 28,
   "metadata": {
    "vscode": {
     "languageId": "cpp"
    }
   },
   "outputs": [],
   "source": [
    "a_cyclic[0] = -1.0; a_cyclic[1] = -1.0; a_cyclic[2] = -1.0;\n",
    "b_cyclic[0] = 4.0; b_cyclic[1] = 4.0; b_cyclic[2] = 4.0;\n",
    "c_cyclic[0] = -1.0; c_cyclic[1] = -1.0; c_cyclic[2] = -1.0;\n",
    "r_cyclic[0] = 4.0; r_cyclic[1] = 5.0; r_cyclic[2] = 6.0;"
   ]
  },
  {
   "cell_type": "code",
   "execution_count": 29,
   "metadata": {
    "vscode": {
     "languageId": "cpp"
    }
   },
   "outputs": [],
   "source": [
    "VecDoub_O x_cyclic(3); // Solution vector"
   ]
  },
  {
   "cell_type": "code",
   "execution_count": 30,
   "metadata": {
    "vscode": {
     "languageId": "cpp"
    }
   },
   "outputs": [],
   "source": [
    "Doub alpha = -1; // Alpha coefficient for cyclic\n",
    "Doub beta = -1; // Beta coefficient for cyclic"
   ]
  },
  {
   "cell_type": "code",
   "execution_count": 31,
   "metadata": {
    "vscode": {
     "languageId": "cpp"
    }
   },
   "outputs": [],
   "source": [
    "cyclic(a_cyclic, b_cyclic, c_cyclic, alpha, ::beta, r_cyclic, x_cyclic);"
   ]
  },
  {
   "cell_type": "code",
   "execution_count": 32,
   "metadata": {
    "vscode": {
     "languageId": "cpp"
    }
   },
   "outputs": [
    {
     "name": "stdout",
     "output_type": "stream",
     "text": [
      "Solution to cyclic system:\n",
      "x[0] = 2.3\n",
      "x[1] = 2.5\n",
      "x[2] = 2.7\n"
     ]
    }
   ],
   "source": [
    "#include <iostream>\n",
    "cout << \"Solution to cyclic system:\" << endl;\n",
    "for (Int i = 0; i < x_cyclic.size(); i++) {\n",
    "    cout << \"x[\" << i << \"] = \" << x_cyclic[i] << endl;\n",
    "}\n",
    "return 0;"
   ]
  },
  {
   "cell_type": "markdown",
   "metadata": {},
   "source": [
    "# Band matrix"
   ]
  },
  {
   "cell_type": "code",
   "execution_count": 33,
   "metadata": {
    "vscode": {
     "languageId": "cpp"
    }
   },
   "outputs": [],
   "source": [
    "#include \"banded.h\""
   ]
  },
  {
   "cell_type": "code",
   "execution_count": 34,
   "metadata": {
    "vscode": {
     "languageId": "cpp"
    }
   },
   "outputs": [],
   "source": [
    "// Example usage of the Bandec class and banmul function\n",
    "// Define the size of the matrix and the bandwidths\n",
    "int n = 7; // Size of the matrix\n",
    "int m1 = 2; // Lower bandwidth\n",
    "int m2 = 1; // Upper bandwidth"
   ]
  },
  {
   "cell_type": "code",
   "execution_count": 35,
   "metadata": {
    "vscode": {
     "languageId": "cpp"
    }
   },
   "outputs": [],
   "source": [
    "// Create a banded matrix with given size and bandwidths\n",
    "MatDoub a(n, m1+m2+1, 0.0);"
   ]
  },
  {
   "cell_type": "code",
   "execution_count": 36,
   "metadata": {
    "vscode": {
     "languageId": "cpp"
    }
   },
   "outputs": [],
   "source": [
    "// Fill the banded matrix with some values\n",
    "// For simplicity, we'll fill the diagonal with 2s and the bands with 1s\n",
    "for(int i = 0; i < n; ++i){\n",
    "    a[i][m1] = 2; // Diagonal\n",
    "    if(i > 0) a[i][m1-1] = 1; // Lower band\n",
    "    if(i < n-1) a[i][m1+1] = 1; // Upper band\n",
    "}"
   ]
  },
  {
   "cell_type": "code",
   "execution_count": 37,
   "metadata": {
    "vscode": {
     "languageId": "cpp"
    }
   },
   "outputs": [],
   "source": [
    "// Create a vector for the right-hand side of the equation Ax = b\n",
    "VecDoub_O b(n, 1);"
   ]
  },
  {
   "cell_type": "code",
   "execution_count": 38,
   "metadata": {
    "vscode": {
     "languageId": "cpp"
    }
   },
   "outputs": [],
   "source": [
    "// Create a vector to store the solution x\n",
    "VecDoub x(n);"
   ]
  },
  {
   "cell_type": "code",
   "execution_count": 39,
   "metadata": {
    "vscode": {
     "languageId": "cpp"
    }
   },
   "outputs": [],
   "source": [
    "// Perform the band matrix multiplication\n",
    "banmul(a, m1, m2, b, x);"
   ]
  },
  {
   "cell_type": "code",
   "execution_count": 40,
   "metadata": {
    "vscode": {
     "languageId": "cpp"
    }
   },
   "outputs": [
    {
     "name": "stdout",
     "output_type": "stream",
     "text": [
      "The result of the band matrix multiplication (Ax=b):\n",
      "x[0] = 3\n",
      "x[1] = 4\n",
      "x[2] = 4\n",
      "x[3] = 4\n",
      "x[4] = 4\n",
      "x[5] = 4\n",
      "x[6] = 3\n"
     ]
    }
   ],
   "source": [
    "cout << \"The result of the band matrix multiplication (Ax=b):\" << endl;\n",
    "for (int i = 0; i < x.size(); i++) {\n",
    "    cout << \"x[\" << i << \"] = \" << x[i] << endl;\n",
    "}"
   ]
  },
  {
   "cell_type": "code",
   "execution_count": 41,
   "metadata": {
    "vscode": {
     "languageId": "cpp"
    }
   },
   "outputs": [],
   "source": [
    "// Create a Bandec object for the matrix decomposition and solving\n",
    "Bandec bandec(a, m1, m2);"
   ]
  },
  {
   "cell_type": "code",
   "execution_count": 42,
   "metadata": {
    "vscode": {
     "languageId": "cpp"
    }
   },
   "outputs": [],
   "source": [
    "// Solve the system Ax = b using the Bandec object\n",
    "bandec.solve(b, x);"
   ]
  },
  {
   "cell_type": "code",
   "execution_count": 43,
   "metadata": {
    "vscode": {
     "languageId": "cpp"
    }
   },
   "outputs": [
    {
     "name": "stdout",
     "output_type": "stream",
     "text": [
      "The solution of the system (x):\n",
      "x[0] = 0.5\n",
      "x[1] = 0\n",
      "x[2] = 0.5\n",
      "x[3] = 0\n",
      "x[4] = 0.5\n",
      "x[5] = 0\n",
      "x[6] = 0.5\n"
     ]
    }
   ],
   "source": [
    "cout << \"The solution of the system (x):\" << endl;\n",
    "for (int i = 0; i < x.size(); i++) {\n",
    "    cout << \"x[\" << i << \"] = \" << x[i] << endl;\n",
    "}"
   ]
  },
  {
   "cell_type": "code",
   "execution_count": 44,
   "metadata": {
    "vscode": {
     "languageId": "cpp"
    }
   },
   "outputs": [],
   "source": [
    "// Calculate the determinant of the matrix\n",
    "double det = bandec.det();"
   ]
  },
  {
   "cell_type": "code",
   "execution_count": 45,
   "metadata": {
    "vscode": {
     "languageId": "cpp"
    }
   },
   "outputs": [
    {
     "name": "stdout",
     "output_type": "stream",
     "text": [
      "The determinant of the matrix: 8\n"
     ]
    }
   ],
   "source": [
    "cout << \"The determinant of the matrix: \" << det << endl;\n"
   ]
  },
  {
   "cell_type": "markdown",
   "metadata": {},
   "source": [
    "# Singular Value Decomposition"
   ]
  },
  {
   "cell_type": "code",
   "execution_count": 46,
   "metadata": {
    "vscode": {
     "languageId": "cpp"
    }
   },
   "outputs": [],
   "source": [
    "#include \"svd.h\""
   ]
  },
  {
   "cell_type": "code",
   "execution_count": 47,
   "metadata": {
    "vscode": {
     "languageId": "cpp"
    }
   },
   "outputs": [],
   "source": [
    "MatDoub a(4, 5);"
   ]
  },
  {
   "cell_type": "code",
   "execution_count": 48,
   "metadata": {
    "vscode": {
     "languageId": "cpp"
    }
   },
   "outputs": [],
   "source": [
    "a[0][0] = 1; a[0][1] = 0; a[0][2] = 0; a[0][3] = 0; a[0][4] = 2;\n",
    "a[1][0] = 0; a[1][1] = 0; a[1][2] = 3; a[1][3] = 0; a[1][4] = 0;\n",
    "a[2][0] = 0; a[2][1] = 0; a[2][2] = 0; a[2][3] = 0; a[2][4] = 0;\n",
    "a[3][0] = 0; a[3][1] = 2; a[3][2] = 0; a[3][3] = 0; a[3][0] = 0;"
   ]
  },
  {
   "cell_type": "code",
   "execution_count": 49,
   "metadata": {
    "vscode": {
     "languageId": "cpp"
    }
   },
   "outputs": [],
   "source": [
    "SVD svd(a);"
   ]
  },
  {
   "cell_type": "code",
   "execution_count": 50,
   "metadata": {
    "vscode": {
     "languageId": "cpp"
    }
   },
   "outputs": [
    {
     "name": "stdout",
     "output_type": "stream",
     "text": [
      "Singular values:\n",
      "3 \n",
      "2.23607 \n",
      "2 \n",
      "0 \n",
      "0 \n"
     ]
    }
   ],
   "source": [
    "// Print singular values\n",
    "#include <iostream>\n",
    "cout << \"Singular values:\" << endl;\n",
    "for(int i = 0; i < svd.w.size(); ++i){\n",
    "    cout << svd.w[i] << \" \" << endl;\n",
    "}"
   ]
  },
  {
   "cell_type": "code",
   "execution_count": 51,
   "metadata": {
    "vscode": {
     "languageId": "cpp"
    }
   },
   "outputs": [
    {
     "name": "stdout",
     "output_type": "stream",
     "text": [
      "Matrix U:\n",
      "0 1 0 0 0 \n",
      "-1 0 0 0 0 \n",
      "0 0 0 0 1 \n",
      "0 0 -1 0 0 \n"
     ]
    }
   ],
   "source": [
    "// Print U matrix\n",
    "cout << \"Matrix U:\" << endl;\n",
    "for(int i = 0; i < svd.u.nrows(); ++i){\n",
    "    for(int j = 0; j < svd.u.ncols(); ++j){\n",
    "        cout << svd.u[i][j] << \" \";\n",
    "    }\n",
    "    cout << endl;\n",
    "}"
   ]
  },
  {
   "cell_type": "code",
   "execution_count": 52,
   "metadata": {
    "vscode": {
     "languageId": "cpp"
    }
   },
   "outputs": [
    {
     "name": "stdout",
     "output_type": "stream",
     "text": [
      "Matrix V:\n",
      "0 0.447214 0 0 0.894427 \n",
      "0 0 -1 0 0 \n",
      "-1 0 0 0 0 \n",
      "0 0 0 1 0 \n",
      "0 0.894427 0 0 -0.447214 \n"
     ]
    }
   ],
   "source": [
    "// Print V matrix\n",
    "cout << \"Matrix V:\" << endl;\n",
    "for(int i = 0; i < svd.v.nrows(); ++i){\n",
    "    for(int j = 0; j < svd.v.ncols(); ++j){\n",
    "        cout << svd.v[i][j] << \" \";\n",
    "    }\n",
    "    cout << endl;\n",
    "}"
   ]
  },
  {
   "cell_type": "markdown",
   "metadata": {},
   "source": [
    "# Sparse Linear Systems"
   ]
  },
  {
   "cell_type": "code",
   "execution_count": 53,
   "metadata": {
    "vscode": {
     "languageId": "cpp"
    }
   },
   "outputs": [],
   "source": [
    "#include \"sparse.h\""
   ]
  },
  {
   "cell_type": "code",
   "execution_count": 54,
   "metadata": {
    "vscode": {
     "languageId": "cpp"
    }
   },
   "outputs": [],
   "source": [
    "// Create a sparse matrix with 5 rows, 5 columns, and 9 non-zero values\n",
    "NRsparseMat sparseMatrix(5, 5, 9);"
   ]
  },
  {
   "cell_type": "code",
   "execution_count": 58,
   "metadata": {
    "vscode": {
     "languageId": "cpp"
    }
   },
   "outputs": [],
   "source": [
    "// Initialize the col_ptr, row_ind, and val vectors\n",
    "sparseMatrix.val = VecDoub(9);\n",
    "sparseMatrix.row_ind = VecInt(9);\n",
    "sparseMatrix.col_ptr = VecInt(6);"
   ]
  },
  {
   "cell_type": "code",
   "execution_count": 59,
   "metadata": {
    "vscode": {
     "languageId": "cpp"
    }
   },
   "outputs": [],
   "source": [
    "// Assign values to val\n",
    "Doub val_vals[] = {3.0, 4.0, 7.0, 1.0, 5.0, 2.0, 9.0, 6.0, 5.0};\n",
    "for(int i = 0; i < 9; ++i){\n",
    "    sparseMatrix.val[i] = val_vals[i];\n",
    "}\n",
    "// Assign values to row_ind\n",
    "Int row_ind_vals[] = {0, 1, 2, 0, 2, 0, 2, 4, 4};\n",
    "for(int i = 0; i < 9; ++i){\n",
    "    sparseMatrix.row_ind[i] = row_ind_vals[i];\n",
    "}\n",
    "// Assign values to col_ptr\n",
    "int col_ptr_vals[] = {0, 1, 3, 5, 8, 9};\n",
    "for(int i = 0; i < 6; ++i){\n",
    "    sparseMatrix.col_ptr[i] = col_ptr_vals[i];\n",
    "}"
   ]
  },
  {
   "cell_type": "code",
   "execution_count": 60,
   "metadata": {
    "vscode": {
     "languageId": "cpp"
    }
   },
   "outputs": [],
   "source": [
    "// Transpose the matrix\n",
    "NRsparseMat transposedMatrix = sparseMatrix.transpose();"
   ]
  },
  {
   "cell_type": "code",
   "execution_count": 61,
   "metadata": {
    "vscode": {
     "languageId": "cpp"
    }
   },
   "outputs": [],
   "source": [
    "// Create the ADATranspose structure to multiply the matrix by its transpose\n",
    "ADAT adat(sparseMatrix, transposedMatrix);"
   ]
  },
  {
   "cell_type": "code",
   "execution_count": 62,
   "metadata": {
    "vscode": {
     "languageId": "cpp"
    }
   },
   "outputs": [],
   "source": [
    "VecDoub diagonalVector(sparseMatrix.ncols, 1.0);\n",
    "adat.updateD(diagonalVector);"
   ]
  },
  {
   "cell_type": "code",
   "execution_count": 63,
   "metadata": {
    "vscode": {
     "languageId": "cpp"
    }
   },
   "outputs": [],
   "source": [
    "// Get the result of A*D*ATranspose\n",
    "NRsparseMat resultMatrix = adat.ref();"
   ]
  },
  {
   "cell_type": "code",
   "execution_count": 64,
   "metadata": {
    "vscode": {
     "languageId": "cpp"
    }
   },
   "outputs": [
    {
     "name": "stdout",
     "output_type": "stream",
     "text": [
      "Value at position 0 is 14\n",
      "Value at position 2 is 23\n",
      "Value at position 4 is 12\n",
      "Value at position 1 is 16\n",
      "Value at position 2 is 28\n",
      "Value at position 0 is 23\n",
      "Value at position 1 is 28\n",
      "Value at position 2 is 155\n",
      "Value at position 4 is 54\n",
      "Value at position 0 is 12\n",
      "Value at position 2 is 54\n",
      "Value at position 4 is 61\n"
     ]
    }
   ],
   "source": [
    "// Output the non-zero values of the resulting matrix\n",
    "for(int i = 0; i < resultMatrix.nvals; ++i){\n",
    "    cout << \"Value at position \" << resultMatrix.row_ind[i] << \" is \" << resultMatrix.val[i] << endl;\n",
    "}\n",
    "return 0;"
   ]
  },
  {
   "cell_type": "code",
   "execution_count": null,
   "metadata": {
    "vscode": {
     "languageId": "cpp"
    }
   },
   "outputs": [],
   "source": []
  }
 ],
 "metadata": {
  "kernelspec": {
   "display_name": "C++17",
   "language": "C++17",
   "name": "xcpp17"
  },
  "language_info": {
   "codemirror_mode": "text/x-c++src",
   "file_extension": ".cpp",
   "mimetype": "text/x-c++src",
   "name": "c++",
   "version": "17"
  }
 },
 "nbformat": 4,
 "nbformat_minor": 2
}
