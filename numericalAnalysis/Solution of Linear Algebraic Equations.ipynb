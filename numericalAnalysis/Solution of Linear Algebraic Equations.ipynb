{
 "cells": [
  {
   "cell_type": "markdown",
   "metadata": {},
   "source": [
    "# Gauss-Jordan Elimination"
   ]
  },
  {
   "cell_type": "code",
   "execution_count": 1,
   "metadata": {
    "vscode": {
     "languageId": "cpp"
    }
   },
   "outputs": [],
   "source": [
    "#include \"gaussj.h\""
   ]
  },
  {
   "cell_type": "code",
   "execution_count": 2,
   "metadata": {
    "vscode": {
     "languageId": "cpp"
    }
   },
   "outputs": [],
   "source": [
    "MatDoub_IO a(3, 3);\n",
    "MatDoub_IO b(3, 1);"
   ]
  },
  {
   "cell_type": "code",
   "execution_count": 3,
   "metadata": {
    "vscode": {
     "languageId": "cpp"
    }
   },
   "outputs": [],
   "source": [
    "a[0][0] = 2; a[0][1] = 1; a[0][2] = -1;\n",
    "a[1][0] = -3; a[1][1] = -1; a[1][2] = 2;\n",
    "a[2][0] = -2; a[2][1] = 1; a[2][2] = 2;"
   ]
  },
  {
   "cell_type": "code",
   "execution_count": 4,
   "metadata": {
    "vscode": {
     "languageId": "cpp"
    }
   },
   "outputs": [],
   "source": [
    "b[0][0] = 8;\n",
    "b[1][0] = -11;\n",
    "b[2][0] = -3;"
   ]
  },
  {
   "cell_type": "code",
   "execution_count": 5,
   "metadata": {
    "vscode": {
     "languageId": "cpp"
    }
   },
   "outputs": [],
   "source": [
    "gaussj(a, b);"
   ]
  },
  {
   "cell_type": "code",
   "execution_count": 6,
   "metadata": {
    "vscode": {
     "languageId": "cpp"
    }
   },
   "outputs": [
    {
     "name": "stdout",
     "output_type": "stream",
     "text": [
      "Solution:\n",
      "x[0] = 2\n",
      "x[1] = 3\n",
      "x[2] = -1\n"
     ]
    }
   ],
   "source": [
    "#include <iostream>\n",
    "std::cout << \"Solution:\" << std::endl;\n",
    "for (Int i = 0; i < b.nrows(); ++i) {\n",
    "    std::cout << \"x[\" << i << \"] = \" << b[i][0] << std::endl;\n",
    "}"
   ]
  },
  {
   "cell_type": "markdown",
   "metadata": {},
   "source": [
    "# LU Decomposition"
   ]
  },
  {
   "cell_type": "code",
   "execution_count": 7,
   "metadata": {
    "vscode": {
     "languageId": "cpp"
    }
   },
   "outputs": [],
   "source": [
    "#include \"ludcmp.h\""
   ]
  },
  {
   "cell_type": "code",
   "execution_count": 15,
   "metadata": {
    "vscode": {
     "languageId": "cpp"
    }
   },
   "outputs": [],
   "source": [
    "const Int n = 3;\n",
    "MatDoub a(n, n);\n",
    "VecDoub b(n), x(n);"
   ]
  },
  {
   "cell_type": "code",
   "execution_count": 16,
   "metadata": {
    "vscode": {
     "languageId": "cpp"
    }
   },
   "outputs": [],
   "source": [
    "a[0][0] = 2; a[0][1] = 1; a[0][2] = -1;\n",
    "a[1][0] = -3; a[1][1] = -1; a[1][2] = 2;\n",
    "a[2][0] = -2; a[2][1] = 1; a[2][2] = 2;"
   ]
  },
  {
   "cell_type": "code",
   "execution_count": 17,
   "metadata": {
    "vscode": {
     "languageId": "cpp"
    }
   },
   "outputs": [],
   "source": [
    "b[0] = 8;\n",
    "b[1] = -11;\n",
    "b[2] = -3;"
   ]
  },
  {
   "cell_type": "code",
   "execution_count": 18,
   "metadata": {
    "vscode": {
     "languageId": "cpp"
    }
   },
   "outputs": [],
   "source": [
    "LUdcmp alu(a);"
   ]
  },
  {
   "cell_type": "code",
   "execution_count": 19,
   "metadata": {
    "vscode": {
     "languageId": "cpp"
    }
   },
   "outputs": [],
   "source": [
    "alu.solve(b, x);"
   ]
  },
  {
   "cell_type": "code",
   "execution_count": 20,
   "metadata": {
    "vscode": {
     "languageId": "cpp"
    }
   },
   "outputs": [
    {
     "name": "stdout",
     "output_type": "stream",
     "text": [
      "Solution vector x:\n",
      "x[0] = 2\n",
      "x[1] = 3\n",
      "x[2] = -1\n"
     ]
    }
   ],
   "source": [
    "#include <iostream>\n",
    "std::cout << \"Solution vector x:\" << std::endl;\n",
    "for (size_t i = 0; i < x.size(); ++i){\n",
    "    std::cout << \"x[\" << i << \"] = \" << x[i] << std::endl;\n",
    "}\n",
    "return 0;"
   ]
  },
  {
   "cell_type": "code",
   "execution_count": null,
   "metadata": {
    "vscode": {
     "languageId": "cpp"
    }
   },
   "outputs": [],
   "source": []
  }
 ],
 "metadata": {
  "kernelspec": {
   "display_name": "C++17",
   "language": "C++17",
   "name": "xcpp17"
  },
  "language_info": {
   "codemirror_mode": "text/x-c++src",
   "file_extension": ".cpp",
   "mimetype": "text/x-c++src",
   "name": "c++",
   "version": "17"
  }
 },
 "nbformat": 4,
 "nbformat_minor": 2
}
