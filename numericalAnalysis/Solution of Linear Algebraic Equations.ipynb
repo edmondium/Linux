{
 "cells": [
  {
   "cell_type": "markdown",
   "metadata": {},
   "source": [
    "# Gauss-Jordan Elimination"
   ]
  },
  {
   "cell_type": "code",
   "execution_count": 1,
   "metadata": {
    "vscode": {
     "languageId": "cpp"
    }
   },
   "outputs": [],
   "source": [
    "#include \"gaussj.h\""
   ]
  },
  {
   "cell_type": "code",
   "execution_count": 2,
   "metadata": {
    "vscode": {
     "languageId": "cpp"
    }
   },
   "outputs": [],
   "source": [
    "MatDoub_IO a(3, 3);\n",
    "MatDoub_IO b(3, 1);"
   ]
  },
  {
   "cell_type": "code",
   "execution_count": 3,
   "metadata": {
    "vscode": {
     "languageId": "cpp"
    }
   },
   "outputs": [],
   "source": [
    "a[0][0] = 2; a[0][1] = 1; a[0][2] = -1;\n",
    "a[1][0] = -3; a[1][1] = -1; a[1][2] = 2;\n",
    "a[2][0] = -2; a[2][1] = 1; a[2][2] = 2;"
   ]
  },
  {
   "cell_type": "code",
   "execution_count": 4,
   "metadata": {
    "vscode": {
     "languageId": "cpp"
    }
   },
   "outputs": [],
   "source": [
    "b[0][0] = 8;\n",
    "b[1][0] = -11;\n",
    "b[2][0] = -3;"
   ]
  },
  {
   "cell_type": "code",
   "execution_count": 5,
   "metadata": {
    "vscode": {
     "languageId": "cpp"
    }
   },
   "outputs": [],
   "source": [
    "gaussj(a, b);"
   ]
  },
  {
   "cell_type": "code",
   "execution_count": 6,
   "metadata": {
    "vscode": {
     "languageId": "cpp"
    }
   },
   "outputs": [
    {
     "name": "stdout",
     "output_type": "stream",
     "text": [
      "Solution:\n",
      "x[0] = 2\n",
      "x[1] = 3\n",
      "x[2] = -1\n"
     ]
    }
   ],
   "source": [
    "#include <iostream>\n",
    "std::cout << \"Solution:\" << std::endl;\n",
    "for (Int i = 0; i < b.nrows(); ++i) {\n",
    "    std::cout << \"x[\" << i << \"] = \" << b[i][0] << std::endl;\n",
    "}"
   ]
  },
  {
   "cell_type": "markdown",
   "metadata": {},
   "source": [
    "# LU Decomposition"
   ]
  },
  {
   "cell_type": "code",
   "execution_count": 7,
   "metadata": {
    "vscode": {
     "languageId": "cpp"
    }
   },
   "outputs": [],
   "source": [
    "#include \"ludcmp.h\""
   ]
  },
  {
   "cell_type": "code",
   "execution_count": 8,
   "metadata": {
    "vscode": {
     "languageId": "cpp"
    }
   },
   "outputs": [],
   "source": [
    "const Int n = 3;\n",
    "MatDoub a(n, n);\n",
    "VecDoub b(n), x(n);"
   ]
  },
  {
   "cell_type": "code",
   "execution_count": 9,
   "metadata": {
    "vscode": {
     "languageId": "cpp"
    }
   },
   "outputs": [],
   "source": [
    "a[0][0] = 2; a[0][1] = 1; a[0][2] = -1;\n",
    "a[1][0] = -3; a[1][1] = -1; a[1][2] = 2;\n",
    "a[2][0] = -2; a[2][1] = 1; a[2][2] = 2;"
   ]
  },
  {
   "cell_type": "code",
   "execution_count": 10,
   "metadata": {
    "vscode": {
     "languageId": "cpp"
    }
   },
   "outputs": [],
   "source": [
    "b[0] = 8;\n",
    "b[1] = -11;\n",
    "b[2] = -3;"
   ]
  },
  {
   "cell_type": "code",
   "execution_count": 11,
   "metadata": {
    "vscode": {
     "languageId": "cpp"
    }
   },
   "outputs": [],
   "source": [
    "LUdcmp alu(a);"
   ]
  },
  {
   "cell_type": "code",
   "execution_count": 12,
   "metadata": {
    "vscode": {
     "languageId": "cpp"
    }
   },
   "outputs": [],
   "source": [
    "alu.solve(b, x);"
   ]
  },
  {
   "cell_type": "code",
   "execution_count": 13,
   "metadata": {
    "vscode": {
     "languageId": "cpp"
    }
   },
   "outputs": [
    {
     "name": "stdout",
     "output_type": "stream",
     "text": [
      "Solution vector x:\n",
      "x[0] = 2\n",
      "x[1] = 3\n",
      "x[2] = -1\n"
     ]
    }
   ],
   "source": [
    "#include <iostream>\n",
    "std::cout << \"Solution vector x:\" << std::endl;\n",
    "for (size_t i = 0; i < x.size(); ++i){\n",
    "    std::cout << \"x[\" << i << \"] = \" << x[i] << std::endl;\n",
    "}\n",
    "return 0;"
   ]
  },
  {
   "cell_type": "markdown",
   "metadata": {},
   "source": [
    "# Tridiagonal matrix"
   ]
  },
  {
   "cell_type": "code",
   "execution_count": 14,
   "metadata": {
    "vscode": {
     "languageId": "cpp"
    }
   },
   "outputs": [],
   "source": [
    "#include \"tridag.h\""
   ]
  },
  {
   "cell_type": "code",
   "execution_count": 45,
   "metadata": {
    "vscode": {
     "languageId": "cpp"
    }
   },
   "outputs": [],
   "source": [
    "// Initialize the vectors with the appropriate size\n",
    "VecDoub a(3), b(3), c(3), r(3);"
   ]
  },
  {
   "cell_type": "code",
   "execution_count": 46,
   "metadata": {
    "vscode": {
     "languageId": "cpp"
    }
   },
   "outputs": [],
   "source": [
    "// Set the elements of each vector\n",
    "a[0] = 0.0; a[1] = -1.0; a[2] = -1.0;\n",
    "b[0] = 2.0; b[1] = 2.0; b[2] = 2.0;\n",
    "c[0] = -1.0; c[1] = -1.0; c[2] = 0.0;\n",
    "r[0] = 1.0; r[1] = 2.0; r[2] = 3.0;"
   ]
  },
  {
   "cell_type": "code",
   "execution_count": 47,
   "metadata": {
    "vscode": {
     "languageId": "cpp"
    }
   },
   "outputs": [],
   "source": [
    "VecDoub_O u(3); // Solution vector"
   ]
  },
  {
   "cell_type": "code",
   "execution_count": 48,
   "metadata": {
    "vscode": {
     "languageId": "cpp"
    }
   },
   "outputs": [],
   "source": [
    "// Call the tridag function\n",
    "tridag(a, b, c, r, u);"
   ]
  },
  {
   "cell_type": "code",
   "execution_count": 50,
   "metadata": {
    "vscode": {
     "languageId": "cpp"
    }
   },
   "outputs": [
    {
     "name": "stdout",
     "output_type": "stream",
     "text": [
      "Solution to tridiagonal system:\n",
      "u[0] = 2.5\n",
      "u[1] = 4\n",
      "u[2] = 3.5\n"
     ]
    }
   ],
   "source": [
    "#include <iostream>\n",
    "// Output the solution\n",
    "cout << \"Solution to tridiagonal system:\" << endl;\n",
    "for (Int i = 0; i < u.size(); i++) {\n",
    "    cout << \"u[\" << i << \"] = \" << u[i] << endl;\n",
    "}"
   ]
  },
  {
   "cell_type": "markdown",
   "metadata": {},
   "source": [
    "# Band matrix"
   ]
  },
  {
   "cell_type": "code",
   "execution_count": null,
   "metadata": {
    "vscode": {
     "languageId": "cpp"
    }
   },
   "outputs": [],
   "source": []
  }
 ],
 "metadata": {
  "kernelspec": {
   "display_name": "C++17",
   "language": "C++17",
   "name": "xcpp17"
  },
  "language_info": {
   "codemirror_mode": "text/x-c++src",
   "file_extension": ".cpp",
   "mimetype": "text/x-c++src",
   "name": "c++",
   "version": "17"
  }
 },
 "nbformat": 4,
 "nbformat_minor": 2
}
