{
 "cells": [
  {
   "cell_type": "code",
   "execution_count": 1,
   "metadata": {
    "vscode": {
     "languageId": "cpp"
    }
   },
   "outputs": [],
   "source": [
    "#include \"calendar.h\"\n",
    "#include \"moment.h\""
   ]
  },
  {
   "cell_type": "code",
   "execution_count": 2,
   "metadata": {
    "vscode": {
     "languageId": "cpp"
    }
   },
   "outputs": [
    {
     "name": "stdout",
     "output_type": "stream",
     "text": [
      "Average =  2.41532e+06"
     ]
    }
   ],
   "source": [
    "const Int NTOT = 20;\n",
    "Int i, jd, nph = 2;\n",
    "Doub frac, ave, vrnce;\n",
    "VecDoub data(NTOT);\n",
    "for (i = 0; i < NTOT; i++)\n",
    "{\n",
    "    flmoon(i, nph, jd, frac);\n",
    "    data[i] = jd;\n",
    "}\n",
    "avevar(data, ave, vrnce);\n",
    "cout << \"Average = \" << setw(12) << ave;"
   ]
  },
  {
   "cell_type": "code",
   "execution_count": 3,
   "metadata": {
    "vscode": {
     "languageId": "cpp"
    }
   },
   "outputs": [
    {
     "name": "stdout",
     "output_type": "stream",
     "text": [
      "Variance =      30480.7\n"
     ]
    }
   ],
   "source": [
    "cout << \"Variance = \" << setw(12) << vrnce << endl;\n",
    "return 0;"
   ]
  },
  {
   "cell_type": "code",
   "execution_count": null,
   "metadata": {
    "vscode": {
     "languageId": "cpp"
    }
   },
   "outputs": [],
   "source": []
  }
 ],
 "metadata": {
  "kernelspec": {
   "display_name": "C++17",
   "language": "C++17",
   "name": "xcpp17"
  },
  "language_info": {
   "codemirror_mode": "text/x-c++src",
   "file_extension": ".cpp",
   "mimetype": "text/x-c++src",
   "name": "c++",
   "version": "17"
  }
 },
 "nbformat": 4,
 "nbformat_minor": 2
}
